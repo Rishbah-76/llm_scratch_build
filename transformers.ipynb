{
 "cells": [
  {
   "cell_type": "markdown",
   "metadata": {},
   "source": [
    "## models using Selfattention"
   ]
  },
  {
   "cell_type": "code",
   "execution_count": null,
   "metadata": {},
   "outputs": [],
   "source": [
    "## Initially models had no idea of context even with attention mechanism\n",
    "##"
   ]
  },
  {
   "cell_type": "code",
   "execution_count": null,
   "metadata": {},
   "outputs": [],
   "source": [
    "import torch\n",
    "import torch.nn as nn\n",
    "device=\"cuda\" if torch.device.is_available() else 'cpu'\n",
    "block_size=8\n",
    "batch_size=4\n",
    "max_iters=1000\n",
    "learning_rate=3e-3\n",
    "eavl_iter=250\n",
    "n_embed=384 #--> this will be our Number of tokens stored as vector "
   ]
  }
 ],
 "metadata": {
  "kernelspec": {
   "display_name": "base",
   "language": "python",
   "name": "python3"
  },
  "language_info": {
   "name": "python",
   "version": "3.11.4"
  }
 },
 "nbformat": 4,
 "nbformat_minor": 2
}
